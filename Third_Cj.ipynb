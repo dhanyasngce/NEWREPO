{
  "nbformat": 4,
  "nbformat_minor": 0,
  "metadata": {
    "colab": {
      "name": "Third Cj.ipynb",
      "provenance": [],
      "include_colab_link": true
    },
    "kernelspec": {
      "name": "python3",
      "display_name": "Python 3"
    }
  },
  "cells": [
    {
      "cell_type": "markdown",
      "metadata": {
        "id": "view-in-github",
        "colab_type": "text"
      },
      "source": [
        "<a href=\"https://colab.research.google.com/github/dhanyasngce/NEWREPO/blob/main/Third_Cj.ipynb\" target=\"_parent\"><img src=\"https://colab.research.google.com/assets/colab-badge.svg\" alt=\"Open In Colab\"/></a>"
      ]
    },
    {
      "cell_type": "code",
      "metadata": {
        "colab": {
          "base_uri": "https://localhost:8080/"
        },
        "id": "coEZbVewNbzG",
        "outputId": "a1918874-ed55-4d15-a637-6360c630a1d3"
      },
      "source": [
        "birth_year=int(input('Enter your birth year:'))\n",
        "age= 2020-birth_year\n",
        "print(age)\n"
      ],
      "execution_count": null,
      "outputs": [
        {
          "output_type": "stream",
          "text": [
            "Enter your birth year:1982\n",
            "38\n"
          ],
          "name": "stdout"
        }
      ]
    },
    {
      "cell_type": "code",
      "metadata": {
        "colab": {
          "base_uri": "https://localhost:8080/"
        },
        "id": "pvzTxh66WLw8",
        "outputId": "6298f4c0-5577-4af8-9e7e-a6b7fddac254"
      },
      "source": [
        "price=25\n",
        "print(not price>10)\n",
        "&\n",
        "|\n",
        "~\n",
        "^\n",
        ">>\n",
        "<<"
      ],
      "execution_count": null,
      "outputs": [
        {
          "output_type": "stream",
          "text": [
            "False\n"
          ],
          "name": "stdout"
        }
      ]
    },
    {
      "cell_type": "code",
      "metadata": {
        "id": "YwnF9_z1Elfw"
      },
      "source": [
        "print()\n",
        "print(8*\"\\n\")\n",
        "print(\"hello world\",end='*')\n",
        "name=input('What is your name ?')\n",
        "print('hello' +name)"
      ],
      "execution_count": null,
      "outputs": []
    },
    {
      "cell_type": "code",
      "metadata": {
        "colab": {
          "base_uri": "https://localhost:8080/"
        },
        "id": "8crcFou2P7xj",
        "outputId": "d0665a62-1687-4dbe-ec99-399644edb928"
      },
      "source": [
        "course='Python for Beginners'\n",
        "print(course.upper())\n",
        "print(course.lower())\n",
        "print(course.find('i'))\n",
        "print(course.find('for'))\n",
        "print(course.replace('for','ggg'))\n",
        "x=5\n",
        "y=6\n",
        "print('The value of x is {} and y is {}'.format(x,y))\n",
        "print('I love {1} and {0}'.format('bread','butter'))\n"
      ],
      "execution_count": null,
      "outputs": [
        {
          "output_type": "stream",
          "text": [
            "PYTHON FOR BEGINNERS\n",
            "python for beginners\n",
            "14\n",
            "7\n",
            "Python ggg Beginners\n",
            "The value of x is 5 and y is 6\n",
            "I love butter and bread\n"
          ],
          "name": "stdout"
        }
      ]
    },
    {
      "cell_type": "code",
      "metadata": {
        "colab": {
          "base_uri": "https://localhost:8080/"
        },
        "id": "ZyO9QzGCQF_H",
        "outputId": "12bbcc13-7d1d-4784-b7ce-a8710fec495b"
      },
      "source": [
        "a=10 \n",
        "print (a)\n",
        "print(a-2)\n",
        "print(a)\n",
        "st=\"äbcd\"\n",
        "print (st)\n",
        "print(st.upper())\n",
        "print(st)\n",
        "list=[1,2,3,4,5]\n",
        "print(list)\n",
        "list.remove(3)\n",
        "print(list)\n"
      ],
      "execution_count": null,
      "outputs": [
        {
          "output_type": "stream",
          "text": [
            "10\n",
            "8\n",
            "10\n",
            "äbcd\n",
            "ÄBCD\n",
            "äbcd\n",
            "[1, 2, 3, 4, 5]\n",
            "[1, 2, 4, 5]\n"
          ],
          "name": "stdout"
        }
      ]
    },
    {
      "cell_type": "code",
      "metadata": {
        "colab": {
          "base_uri": "https://localhost:8080/"
        },
        "id": "SAvNcoi7SIkC",
        "outputId": "71da5644-2cbc-469c-d48c-e778805b9ad5"
      },
      "source": [
        "a='helloxyz!'\n",
        "max(a)\n",
        "min(a)\n",
        "len(a)"
      ],
      "execution_count": null,
      "outputs": [
        {
          "output_type": "execute_result",
          "data": {
            "text/plain": [
              "9"
            ]
          },
          "metadata": {
            "tags": []
          },
          "execution_count": 34
        }
      ]
    },
    {
      "cell_type": "markdown",
      "metadata": {
        "id": "cCoQHYiAgggY"
      },
      "source": [
        "\n"
      ]
    },
    {
      "cell_type": "code",
      "metadata": {
        "colab": {
          "base_uri": "https://localhost:8080/"
        },
        "id": "fTVe1-f4gbQI",
        "outputId": "9f9dd789-dd83-47fc-b225-a34a5878e08e"
      },
      "source": [
        "if True:\n",
        "  print (\" hai\")\n",
        "  print(\"hello\")\n"
      ],
      "execution_count": null,
      "outputs": [
        {
          "output_type": "stream",
          "text": [
            " hai\n",
            "hello\n"
          ],
          "name": "stdout"
        }
      ]
    },
    {
      "cell_type": "code",
      "metadata": {
        "colab": {
          "base_uri": "https://localhost:8080/"
        },
        "id": "4ZBr1fZeFcAz",
        "outputId": "0712c475-ceea-4c89-b0c8-92c9113c5ad0"
      },
      "source": [
        "x=int(input(\"Enter the number\"))\n",
        "r=x%2 \n",
        "if r==0 :\n",
        "  print(\"No is Even\")\n",
        "if r==1 :\n",
        "  print(\"No is odd\")\n",
        "print (\"bye\")"
      ],
      "execution_count": null,
      "outputs": [
        {
          "output_type": "stream",
          "text": [
            "Enter the number6\n",
            "No is Even\n",
            "bye\n"
          ],
          "name": "stdout"
        }
      ]
    },
    {
      "cell_type": "code",
      "metadata": {
        "colab": {
          "base_uri": "https://localhost:8080/"
        },
        "id": "FU2lNkfIHsp9",
        "outputId": "ff1b92b2-8f18-4a9c-fe8c-b3a23463cc1a"
      },
      "source": [
        "x=int(input(\"Enter the number\"))\n",
        "r=x%2 # 0 or 1\n",
        "if r==0 :\n",
        "  print(\"No is Even\")\n",
        "else :\n",
        "  print(\"No is odd\")\n",
        "print (\"bye\")"
      ],
      "execution_count": null,
      "outputs": [
        {
          "output_type": "stream",
          "text": [
            "Enter the number11\n",
            "No is odd\n",
            "bye\n"
          ],
          "name": "stdout"
        }
      ]
    },
    {
      "cell_type": "code",
      "metadata": {
        "colab": {
          "base_uri": "https://localhost:8080/"
        },
        "id": "qPCvp8u_H9ZP",
        "outputId": "3857e523-6e29-4df0-82e6-8a4683092c63"
      },
      "source": [
        "x=int(input(\"Enter the number\"))\n",
        "r=x%2 # 0 or 1\n",
        "if r==0 :\n",
        "  print(\"No is Even\")\n",
        "  if x>5:\n",
        "    print(\"good\")\n",
        "  else:\n",
        "    print('bad')\n",
        "if r==1 :\n",
        "  print(\"No is odd\")\n",
        "print (\"bye\")"
      ],
      "execution_count": null,
      "outputs": [
        {
          "output_type": "stream",
          "text": [
            "Enter the number4\n",
            "No is Even\n",
            "bad\n",
            "bye\n"
          ],
          "name": "stdout"
        }
      ]
    },
    {
      "cell_type": "code",
      "metadata": {
        "colab": {
          "base_uri": "https://localhost:8080/"
        },
        "id": "b9URzvsWIhgI",
        "outputId": "2d1b131a-94e6-4c3b-8968-09725dc42786"
      },
      "source": [
        "x=int(input(\"Enter the number\"))\n",
        "\n",
        "if x==1:\n",
        "  print('One')\n",
        "if x==2:\n",
        "  print('two')\n",
        "if x==3:\n",
        "  print('three')"
      ],
      "execution_count": null,
      "outputs": [
        {
          "output_type": "stream",
          "text": [
            "Enter the number3\n",
            "three\n"
          ],
          "name": "stdout"
        }
      ]
    },
    {
      "cell_type": "code",
      "metadata": {
        "colab": {
          "base_uri": "https://localhost:8080/"
        },
        "id": "9YboocRdJVdI",
        "outputId": "60777b02-29a7-4cb0-ad46-bfcd363c051b"
      },
      "source": [
        "x=int(input(\"Enter the number\"))\n",
        "\n",
        "if x==1:\n",
        "  print('One')\n",
        "elif x==2:\n",
        "  print('two')\n",
        "elif x==3:\n",
        "  print('three')\n",
        "else:\n",
        "  print('its wrong')"
      ],
      "execution_count": null,
      "outputs": [
        {
          "output_type": "stream",
          "text": [
            "Enter the number4\n",
            "its wrong\n"
          ],
          "name": "stdout"
        }
      ]
    },
    {
      "cell_type": "code",
      "metadata": {
        "colab": {
          "base_uri": "https://localhost:8080/"
        },
        "id": "kmz-sYLNXQo-",
        "outputId": "2a992c0b-792b-4dee-f4f6-0ac844755553"
      },
      "source": [
        "temperature=int(input(\"Enter the todays temperature:\"))\n",
        "if temperature>30:\n",
        "  print('it is a hot day')\n",
        "  print('Drink plenty of water')\n",
        "elif temperature>20:\n",
        "  print('Moderate climate')\n",
        "elif temperature>10:\n",
        "  print(\"bit cold\")\n",
        "else:\n",
        "  print('too cold')\n",
        "\n"
      ],
      "execution_count": null,
      "outputs": [
        {
          "output_type": "stream",
          "text": [
            "Enter the todays temperature:9\n",
            "too cold\n"
          ],
          "name": "stdout"
        }
      ]
    },
    {
      "cell_type": "code",
      "metadata": {
        "colab": {
          "base_uri": "https://localhost:8080/"
        },
        "id": "STAfgjWiavRr",
        "outputId": "8cc2bd41-eeab-4afa-dcb7-f08a89bd7b87"
      },
      "source": [
        "weight=int(input(\"What is you weight\"))\n",
        "unit=input(\"ïs this in Kg or Lbs\" )\n",
        "if unit.upper() == \"L\":\n",
        "  converted=int(weight/0.45)\n",
        "  print('weight in Lbs:' +str(converted))\n",
        "else:\n",
        "  converted=int(weight*0.45)\n",
        "  print(f\"weight in Kg {converted}\")"
      ],
      "execution_count": null,
      "outputs": [
        {
          "output_type": "stream",
          "text": [
            "What is you weight80\n",
            "ïs this in Kg or Lbsd\n",
            "weight in Kg 36\n"
          ],
          "name": "stdout"
        }
      ]
    },
    {
      "cell_type": "code",
      "metadata": {
        "colab": {
          "base_uri": "https://localhost:8080/"
        },
        "id": "F9ceNnlZUi09",
        "outputId": "8091cfc1-90c3-47b1-b56a-631c3e4cc00e"
      },
      "source": [
        "3/2\n",
        "3//2\n",
        "x=(10+3)*2\n",
        "print(x)\n",
        ">\n",
        "<\n",
        "==\n",
        "!="
      ],
      "execution_count": null,
      "outputs": [
        {
          "output_type": "stream",
          "text": [
            "26\n"
          ],
          "name": "stdout"
        }
      ]
    },
    {
      "cell_type": "code",
      "metadata": {
        "id": "ItmodgAryVps"
      },
      "source": [
        ""
      ],
      "execution_count": null,
      "outputs": []
    },
    {
      "cell_type": "code",
      "metadata": {
        "id": "V8wJw-ysfkpX"
      },
      "source": [
        ""
      ],
      "execution_count": null,
      "outputs": []
    },
    {
      "cell_type": "code",
      "metadata": {
        "colab": {
          "base_uri": "https://localhost:8080/"
        },
        "id": "GB1-4TY2dhLD",
        "outputId": "af4ecc1a-93d4-442a-fc4e-4eefd7c3ebdc"
      },
      "source": [
        "i=1\n",
        "while i< 10:\n",
        "  print(i)\n",
        "  print(i * '@')\n",
        "  i=i+1"
      ],
      "execution_count": null,
      "outputs": [
        {
          "output_type": "stream",
          "text": [
            "1\n",
            "@\n",
            "2\n",
            "@@\n",
            "3\n",
            "@@@\n",
            "4\n",
            "@@@@\n",
            "5\n",
            "@@@@@\n",
            "6\n",
            "@@@@@@\n",
            "7\n",
            "@@@@@@@\n",
            "8\n",
            "@@@@@@@@\n",
            "9\n",
            "@@@@@@@@@\n"
          ],
          "name": "stdout"
        }
      ]
    },
    {
      "cell_type": "code",
      "metadata": {
        "colab": {
          "base_uri": "https://localhost:8080/"
        },
        "id": "biN0AfNgn5uy",
        "outputId": "34de4764-4514-44c6-a594-7174e699bb4e"
      },
      "source": [
        "i=1\n",
        "while i<=5:\n",
        "  print('Python',i)\n",
        "  i=i+1"
      ],
      "execution_count": null,
      "outputs": [
        {
          "output_type": "stream",
          "text": [
            "Python 1\n",
            "Python 2\n",
            "Python 3\n",
            "Python 4\n",
            "Python 5\n"
          ],
          "name": "stdout"
        }
      ]
    },
    {
      "cell_type": "code",
      "metadata": {
        "colab": {
          "base_uri": "https://localhost:8080/"
        },
        "id": "EuVf6G9GobUw",
        "outputId": "4608195f-3cc8-48f8-ca0f-09f632a57267"
      },
      "source": [
        "i=5\n",
        "while i>=1:\n",
        "  print('Python',i)\n",
        "  i=i-1"
      ],
      "execution_count": null,
      "outputs": [
        {
          "output_type": "stream",
          "text": [
            "Python 5\n",
            "Python 4\n",
            "Python 3\n",
            "Python 2\n",
            "Python 1\n"
          ],
          "name": "stdout"
        }
      ]
    },
    {
      "cell_type": "code",
      "metadata": {
        "colab": {
          "base_uri": "https://localhost:8080/"
        },
        "id": "inkSGiJCoyag",
        "outputId": "24d4c152-d750-4547-8242-b6a1a21bc5f8"
      },
      "source": [
        "i=1\n",
        "while i<=5:\n",
        "  print('Python')\n",
        "  j=1\n",
        "  while j<=4 :\n",
        "    print('Programming')\n",
        "    j=j+1\n",
        "  i=i+1\n",
        "  print()\n",
        "print('Bye')"
      ],
      "execution_count": null,
      "outputs": [
        {
          "output_type": "stream",
          "text": [
            "Python\n",
            "Programming\n",
            "Programming\n",
            "Programming\n",
            "Programming\n",
            "\n",
            "Python\n",
            "Programming\n",
            "Programming\n",
            "Programming\n",
            "Programming\n",
            "\n",
            "Python\n",
            "Programming\n",
            "Programming\n",
            "Programming\n",
            "Programming\n",
            "\n",
            "Python\n",
            "Programming\n",
            "Programming\n",
            "Programming\n",
            "Programming\n",
            "\n",
            "Python\n",
            "Programming\n",
            "Programming\n",
            "Programming\n",
            "Programming\n",
            "\n",
            "Bye\n"
          ],
          "name": "stdout"
        }
      ]
    },
    {
      "cell_type": "code",
      "metadata": {
        "colab": {
          "base_uri": "https://localhost:8080/"
        },
        "id": "DcCyuycesVm2",
        "outputId": "d19527ba-b1b3-4cc8-f3aa-4c745a5e9556"
      },
      "source": [
        "x=['dh',25,5.2]\n",
        "print(x)\n"
      ],
      "execution_count": null,
      "outputs": [
        {
          "output_type": "stream",
          "text": [
            "['dh', 25, 5.2]\n"
          ],
          "name": "stdout"
        }
      ]
    },
    {
      "cell_type": "code",
      "metadata": {
        "colab": {
          "base_uri": "https://localhost:8080/"
        },
        "id": "aAAQBUEBsrzJ",
        "outputId": "46307133-01db-48be-8576-8b6503666762"
      },
      "source": [
        "x=['dh',25,5.2]\n",
        "for i in x:\n",
        " print(i)"
      ],
      "execution_count": null,
      "outputs": [
        {
          "output_type": "stream",
          "text": [
            "dh\n",
            "25\n",
            "5.2\n"
          ],
          "name": "stdout"
        }
      ]
    },
    {
      "cell_type": "code",
      "metadata": {
        "colab": {
          "base_uri": "https://localhost:8080/"
        },
        "id": "phbKBgrztS9o",
        "outputId": "bf1da365-4e6f-4417-bfac-639694aa640d"
      },
      "source": [
        "x=\"Python\"\n",
        "for i in x:\n",
        "  print(i)"
      ],
      "execution_count": null,
      "outputs": [
        {
          "output_type": "stream",
          "text": [
            "P\n",
            "y\n",
            "t\n",
            "h\n",
            "o\n",
            "n\n"
          ],
          "name": "stdout"
        }
      ]
    },
    {
      "cell_type": "code",
      "metadata": {
        "colab": {
          "base_uri": "https://localhost:8080/"
        },
        "id": "ADjYCWfdtw7r",
        "outputId": "42e70e72-0b26-4254-e118-2513bced75cc"
      },
      "source": [
        "for i in range(11,21,3):\n",
        " print(i)"
      ],
      "execution_count": null,
      "outputs": [
        {
          "output_type": "stream",
          "text": [
            "11\n",
            "14\n",
            "17\n",
            "20\n"
          ],
          "name": "stdout"
        }
      ]
    },
    {
      "cell_type": "code",
      "metadata": {
        "colab": {
          "base_uri": "https://localhost:8080/"
        },
        "id": "FerMnz3coyXe",
        "outputId": "9a50262f-6e41-40cd-e21b-341dc76f83f2"
      },
      "source": [
        "for i in range(20,11,-1):\n",
        "  print(i)\n"
      ],
      "execution_count": null,
      "outputs": [
        {
          "output_type": "stream",
          "text": [
            "20\n",
            "19\n",
            "18\n",
            "17\n",
            "16\n",
            "15\n",
            "14\n",
            "13\n",
            "12\n"
          ],
          "name": "stdout"
        }
      ]
    },
    {
      "cell_type": "code",
      "metadata": {
        "colab": {
          "base_uri": "https://localhost:8080/"
        },
        "id": "2RyWIKtIwHyH",
        "outputId": "32417c4e-54de-4f3d-87ec-22cac0f30cc9"
      },
      "source": [
        "for i in range(2,10,1):\n",
        "  if(i==6): break\n",
        "  print(i)\n",
        "print('End of program')\n"
      ],
      "execution_count": null,
      "outputs": [
        {
          "output_type": "stream",
          "text": [
            "2\n",
            "3\n",
            "4\n",
            "5\n",
            "End of program\n"
          ],
          "name": "stdout"
        }
      ]
    },
    {
      "cell_type": "code",
      "metadata": {
        "colab": {
          "base_uri": "https://localhost:8080/"
        },
        "id": "RcVNasrBxAuh",
        "outputId": "4bf1143c-aab8-4d70-887f-588a49d3e3e6"
      },
      "source": [
        "i=5\n",
        "while i>0:\n",
        "  if(i==3): break\n",
        "  print(i)\n",
        "  i=i-1\n",
        "print(\"End of the program\")"
      ],
      "execution_count": null,
      "outputs": [
        {
          "output_type": "stream",
          "text": [
            "5\n",
            "4\n",
            "End of the program\n"
          ],
          "name": "stdout"
        }
      ]
    },
    {
      "cell_type": "code",
      "metadata": {
        "colab": {
          "base_uri": "https://localhost:8080/"
        },
        "id": "cy4rN_nCfxHv",
        "outputId": "9b359b84-d765-42d6-dad7-38aa8b4551ea"
      },
      "source": [
        "x=['dh,25,5.2']\n",
        "print(x)"
      ],
      "execution_count": null,
      "outputs": [
        {
          "output_type": "stream",
          "text": [
            "['dh,25,5.2']\n"
          ],
          "name": "stdout"
        }
      ]
    },
    {
      "cell_type": "code",
      "metadata": {
        "id": "zpRjbFouhvMg"
      },
      "source": [
        "x=['dh,25,5.2']\n",
        "for\n",
        "print(x)"
      ],
      "execution_count": null,
      "outputs": []
    },
    {
      "cell_type": "code",
      "metadata": {
        "colab": {
          "base_uri": "https://localhost:8080/"
        },
        "id": "HC9ezFzsdjD4",
        "outputId": "8d1102ec-4fb2-40ae-8e76-19c0e717afca"
      },
      "source": [
        "names=['áaa','bbb','ccc','ddd',1]\n",
        "#print(names)\n",
        "#print(names[-3])\n",
        "print(names[0:4])\n",
        "#names[0]='fff'\n",
        "#print(names)\n",
        "#print(names[-1])"
      ],
      "execution_count": null,
      "outputs": [
        {
          "output_type": "stream",
          "text": [
            "['áaa', 'bbb', 'ccc', 'ddd']\n"
          ],
          "name": "stdout"
        }
      ]
    },
    {
      "cell_type": "markdown",
      "metadata": {
        "id": "Ub0I8PECEGmc"
      },
      "source": [
        "**List**\n",
        "- The list is a most versatile datatype available in Python which can be written as a list of comma-separated  values  (items)  between  square  brackets.  Important  thing about a list is that items in a list need not be of the same type.\n",
        "- Creating a list is  as  simple as  putting different comma-separated values between square brackets.\n",
        "- For example −list1 = ['physics', 'chemistry', 1997, 2000]\n",
        "- list2 = [1, 2, 3, 4, 5 ]\n",
        "- list3 = [\"a\", \"b\", \"c\", \"d\"]\n",
        "-The  values  stored  in  a  list  can  be  accessed  using  the  slice  operator[]and [:]with indexes starting at 0 at the beginning of the list and ending with -1.\n",
        "- The + sign is the concatenation operation And * is the repetition operation"
      ]
    },
    {
      "cell_type": "code",
      "metadata": {
        "colab": {
          "base_uri": "https://localhost:8080/"
        },
        "id": "Y-xZTcvh07jA",
        "outputId": "5fc9cc3d-d45a-4102-9759-2717b75abaa3"
      },
      "source": [
        "g1=[123,'xyz','abc','xyz']\n",
        "g2=['mmm','nnn']\n",
        "print(len(g1))\n",
        "g3=[1,5,8,5,10]\n",
        "print(max(g3))\n",
        "print(min(g3))\n"
      ],
      "execution_count": null,
      "outputs": [
        {
          "output_type": "stream",
          "text": [
            "4\n",
            "10\n",
            "1\n"
          ],
          "name": "stdout"
        }
      ]
    },
    {
      "cell_type": "code",
      "metadata": {
        "colab": {
          "base_uri": "https://localhost:8080/"
        },
        "id": "UxjsYSQ8jmhm",
        "outputId": "fc3d7ab1-2a8f-4542-ba28-638cdf4ad0d5"
      },
      "source": [
        "#Build in list methods\n",
        "number=[1,2,3,4,5]\n",
        "number.append(6)\n",
        "#number.insert(0,-1)\n",
        "number.remove(3)\n",
        "number.clear()\n",
        "print(number)"
      ],
      "execution_count": null,
      "outputs": [
        {
          "output_type": "stream",
          "text": [
            "[]\n"
          ],
          "name": "stdout"
        }
      ]
    },
    {
      "cell_type": "code",
      "metadata": {
        "colab": {
          "base_uri": "https://localhost:8080/"
        },
        "id": "54WvJeyrHk-e",
        "outputId": "037f0018-2775-4f25-c54e-36007c695fab"
      },
      "source": [
        "g1=[123,'xyz','abc','xyz']\n",
        "g2=['mmm','nnn']\n",
        "print('count of xyz',g1.count('xyz'))\n",
        "print('Index of abc',g1.index('abc'))\n",
        "g1.extend(g2)\n",
        "g1.insert(1,'ggg')\n",
        "g3=[5,9,3,1,2,8]\n",
        "g3.sort()\n",
        "g3.sort(reverse=True)\n",
        "print('Sorted list',g3)\n",
        "print('Reversed list',g3)\n",
        "#print('Extended list is',g1)\n",
        "#print('Ínsert ggg in the index 1',g1)\n"
      ],
      "execution_count": null,
      "outputs": [
        {
          "output_type": "stream",
          "text": [
            "count of xyz 2\n",
            "Index of abc 2\n",
            "Sorted list [9, 8, 5, 3, 2, 1]\n",
            "Reversed list [9, 8, 5, 3, 2, 1]\n"
          ],
          "name": "stdout"
        }
      ]
    },
    {
      "cell_type": "code",
      "metadata": {
        "colab": {
          "base_uri": "https://localhost:8080/"
        },
        "id": "NDGj1zY4AEIf",
        "outputId": "280f07bb-df54-484e-8e55-57315c99e448"
      },
      "source": [
        "l1=[3,1,7,9]\n",
        "l1.pop(2)\n",
        "print('poped list',l1)"
      ],
      "execution_count": null,
      "outputs": [
        {
          "output_type": "stream",
          "text": [
            "poped list [3, 1, 9]\n"
          ],
          "name": "stdout"
        }
      ]
    },
    {
      "cell_type": "code",
      "metadata": {
        "colab": {
          "base_uri": "https://localhost:8080/"
        },
        "id": "MbgbnjMBA4JF",
        "outputId": "031ff5eb-ce52-4a52-c3d2-e8df29502585"
      },
      "source": [
        "l1=[1,5,6,8]\n",
        "l1.clear()\n",
        "print('Cleared list',l1)"
      ],
      "execution_count": null,
      "outputs": [
        {
          "output_type": "stream",
          "text": [
            "Cleared list []\n"
          ],
          "name": "stdout"
        }
      ]
    },
    {
      "cell_type": "code",
      "metadata": {
        "colab": {
          "base_uri": "https://localhost:8080/"
        },
        "id": "x0sluDjDBY-T",
        "outputId": "9b14c0ab-bac9-4a6e-81f0-42aba28c5ef4"
      },
      "source": [
        "l1=[1,5,6,8]\n",
        "l2=l1.copy()\n",
        "l1.clear()\n",
        "print('Çleared list l1',l1)\n",
        "print('Copied list',l2)"
      ],
      "execution_count": null,
      "outputs": [
        {
          "output_type": "stream",
          "text": [
            "Çleared list l1 []\n",
            "Copied list [1, 5, 6, 8]\n"
          ],
          "name": "stdout"
        }
      ]
    },
    {
      "cell_type": "markdown",
      "metadata": {
        "id": "DDVzlysYJ3gz"
      },
      "source": [
        "Using List as Stacks\n",
        "- The  List  can  be  used  as  a  stack.  stack  is  a  data  structure  where  the  last  element added is the first element retrieved.\n",
        "- The list methods make it very easy to use a list as a stack. To add an item to the top of the stack, use append().To retrieve an item from the top of the stack , use pop() without an explicit index."
      ]
    },
    {
      "cell_type": "code",
      "metadata": {
        "colab": {
          "base_uri": "https://localhost:8080/"
        },
        "id": "gG_l5FZ3CNXH",
        "outputId": "b30d240a-d749-461a-969c-954d34d6eddb"
      },
      "source": [
        "#Using List as Stacks\n",
        "s1=[2,45,21,67]\n",
        "#s1.sort()\n",
        "print(s1)\n",
        "s1.append(50)\n",
        "print(s1)\n",
        "s1.pop()\n",
        "print(s1)"
      ],
      "execution_count": null,
      "outputs": [
        {
          "output_type": "stream",
          "text": [
            "[2, 45, 21, 67]\n",
            "[2, 45, 21, 67, 50]\n",
            "[2, 45, 21, 67]\n"
          ],
          "name": "stdout"
        }
      ]
    },
    {
      "cell_type": "markdown",
      "metadata": {
        "id": "5E_78QeaK7fY"
      },
      "source": [
        "Using List as Queue\n",
        "-  lists are not efficient for this purpose. \n",
        " -While appends and pops from the end of list are fast, doing inserts and pops from the beginning of a list is slow since all of the other elements have to be shifted by one\n",
        " - To  implement  a  queue,  python  provides  a  module  called  collections  in  which  a method called deque is designed to have fast appends and pops from both ends."
      ]
    },
    {
      "cell_type": "code",
      "metadata": {
        "colab": {
          "base_uri": "https://localhost:8080/"
        },
        "id": "BfM4S9HpD3mx",
        "outputId": "60d42ff4-e141-4977-b272-ccbb97c2890a"
      },
      "source": [
        "#Using List as Queues\n",
        "import collections\n",
        "q1=collections.deque(['a','b','c','d'])\n",
        "print(q1)\n",
        "q1.append('e')\n",
        "print(q1)\n",
        "q1.popleft()\n",
        "print(q1)"
      ],
      "execution_count": null,
      "outputs": [
        {
          "output_type": "stream",
          "text": [
            "deque(['a', 'b', 'c', 'd'])\n",
            "deque(['a', 'b', 'c', 'd', 'e'])\n",
            "deque(['b', 'c', 'd', 'e'])\n"
          ],
          "name": "stdout"
        }
      ]
    },
    {
      "cell_type": "markdown",
      "metadata": {
        "id": "LiNH-Am0LYjc"
      },
      "source": [
        "Tuple\n",
        "- A tuple is a sequence of immutablePython objects. Tuples are sequences, just like lists. \n",
        "-  The  differences  between  tuples  and  lists  are,  the  tuples  cannot  be  changed unlike lists and tuples use parentheses, whereas lists use square brackets\n",
        "- Tuples can be considered as read only lists."
      ]
    },
    {
      "cell_type": "code",
      "metadata": {
        "colab": {
          "base_uri": "https://localhost:8080/"
        },
        "id": "y8nFrXSNJoWr",
        "outputId": "2c5792b3-c720-4948-e37c-79daa527e61e"
      },
      "source": [
        "#Tuples\n",
        "t1=(93,2,4,1,59)\n",
        "print(t1)\n",
        "t2=('a','b')\n",
        "print(t2)\n",
        "print(t1[0])\n",
        "print(t1[0:])\n",
        "print(t1[0:-1])\n",
        "print(t1[0:5])\n",
        "print(t1*2)\n",
        "print(t1+t2)\n"
      ],
      "execution_count": null,
      "outputs": [
        {
          "output_type": "stream",
          "text": [
            "(93, 2, 4, 1, 59)\n",
            "('a', 'b')\n",
            "93\n",
            "(93, 2, 4, 1, 59)\n",
            "(93, 2, 4, 1)\n",
            "(93, 2, 4, 1, 59)\n",
            "(93, 2, 4, 1, 59, 93, 2, 4, 1, 59)\n",
            "(93, 2, 4, 1, 59, 'a', 'b')\n"
          ],
          "name": "stdout"
        }
      ]
    },
    {
      "cell_type": "markdown",
      "metadata": {
        "id": "0eUhwvvISp2g"
      },
      "source": [
        "#t1[0]=89\n",
        "#print(t1)\n",
        "#del t1[0]\n",
        "#del t1\n",
        "#Pack and Unpack values,can create tuple even without paranthesis,Reverse operation is called sequence packing \n",
        "Works for any sequence on the right hand side"
      ]
    },
    {
      "cell_type": "code",
      "metadata": {
        "colab": {
          "base_uri": "https://localhost:8080/"
        },
        "id": "5qy9oVvWS4Y3",
        "outputId": "a7f31799-66aa-437c-a1e9-32b43d55bb63"
      },
      "source": [
        "t1=1,2,3\n",
        "print(t1)\n",
        "x,y,z=t1\n",
        "x\n",
        "y\n",
        "print(t1)\n",
        "print(x,y,z)"
      ],
      "execution_count": null,
      "outputs": [
        {
          "output_type": "stream",
          "text": [
            "(1, 2, 3)\n",
            "(1, 2, 3)\n",
            "1 2 3\n"
          ],
          "name": "stdout"
        }
      ]
    },
    {
      "cell_type": "code",
      "metadata": {
        "colab": {
          "base_uri": "https://localhost:8080/"
        },
        "id": "SlXLKp3cT4Yl",
        "outputId": "c5248809-7bfa-4ccd-de51-5cfc9a9638da"
      },
      "source": [
        "#Build in tuples functions\n",
        "#len(tuple)\n",
        "#max(tuple)\n",
        "tuple1,tuple2=(1,2,3),(4,5,6)\n",
        "print('Length of first tuple',len(tuple1))\n",
        "print(tuple2)\n",
        "max(tuple2)\n",
        "min(tuple2)\n",
        "#convert a list to tuple\n",
        "alist=[1,'a','b',20]\n",
        "atuple=tuple(alist)\n",
        "print(\"Tuple elements are\",atuple)"
      ],
      "execution_count": null,
      "outputs": [
        {
          "output_type": "stream",
          "text": [
            "Length of first tuple 3\n",
            "(4, 5, 6)\n",
            "Tuple elements are (1, 'a', 'b', 20)\n"
          ],
          "name": "stdout"
        }
      ]
    },
    {
      "cell_type": "markdown",
      "metadata": {
        "id": "nwKsf6lGV1FS"
      },
      "source": [
        "\n",
        "Set is an unordered collection of unique items. Setis defined by values separated by comma inside braces{ }.It can have any number of items and they maybe of different types(integer,float,tuple,string etc).items in a set are not ordered. Since they are unordered we cannot access or change an element of set using indexing or slicing. we can perform set operations like union ,intersection, difference on two sets. Set have unique values. They eliminate duplicates. The slicing operator [] does not work with sets. An empty set is created by the function set()."
      ]
    },
    {
      "cell_type": "code",
      "metadata": {
        "colab": {
          "base_uri": "https://localhost:8080/"
        },
        "id": "S8ZZe-kpXKuR",
        "outputId": "bafabd52-1880-4a2d-cee3-6fbc5bf46906"
      },
      "source": [
        "s1={1,2,3}\n",
        "print(s1)\n",
        "s2={1,2,3,1,4,3} #output only unique values\n",
        "print(s2)\n",
        "#s3={[2,3]) error"
      ],
      "execution_count": null,
      "outputs": [
        {
          "output_type": "stream",
          "text": [
            "{1, 2, 3}\n",
            "{1, 2, 3, 4}\n"
          ],
          "name": "stdout"
        }
      ]
    },
    {
      "cell_type": "markdown",
      "metadata": {
        "id": "u7Zn2vb723i_"
      },
      "source": [
        "Dictionary-Is an unordered collection of Key -Value pairs\n",
        "Each key is separated from its value by a colon (:), the items are separated by commas, and the whole thing is enclosed in curly braces. An empty dictionary without any items is written with just two curly braces, like this: {}.Keys  are  unique  within  a  dictionary  while  values  may  not  be.  The  values  of  a dictionary  can  be  of  any  type,  but  the  keys  must  be  of  an  immutable  data  type such as strings, numbers, or tuples."
      ]
    },
    {
      "cell_type": "code",
      "metadata": {
        "id": "HjMZZyMwU22v",
        "colab": {
          "base_uri": "https://localhost:8080/"
        },
        "outputId": "6c5fe146-ae68-4b5a-c367-7852d74c1a93"
      },
      "source": [
        "data ={1:'ah', 2:'bh', 4:'dh'}\n",
        "print(data)"
      ],
      "execution_count": null,
      "outputs": [
        {
          "output_type": "stream",
          "text": [
            "{1: 'ah', 2: 'bh', 4: 'dh'}\n"
          ],
          "name": "stdout"
        }
      ]
    },
    {
      "cell_type": "code",
      "metadata": {
        "colab": {
          "base_uri": "https://localhost:8080/",
          "height": 214
        },
        "id": "Ta9VbESumzTX",
        "outputId": "03758f79-8aad-47c6-c9ba-3050a6bece91"
      },
      "source": [
        "data ={1:'ah', 2:'bh', 4:'dh'}\n",
        "print(data[4])\n",
        "#print(data[3])"
      ],
      "execution_count": null,
      "outputs": [
        {
          "output_type": "stream",
          "text": [
            "dh\n"
          ],
          "name": "stdout"
        },
        {
          "output_type": "error",
          "ename": "KeyError",
          "evalue": "ignored",
          "traceback": [
            "\u001b[0;31m---------------------------------------------------------------------------\u001b[0m",
            "\u001b[0;31mKeyError\u001b[0m                                  Traceback (most recent call last)",
            "\u001b[0;32m<ipython-input-26-a4d023421685>\u001b[0m in \u001b[0;36m<module>\u001b[0;34m()\u001b[0m\n\u001b[1;32m      1\u001b[0m \u001b[0mdata\u001b[0m \u001b[0;34m=\u001b[0m\u001b[0;34m{\u001b[0m\u001b[0;36m1\u001b[0m\u001b[0;34m:\u001b[0m\u001b[0;34m'ah'\u001b[0m\u001b[0;34m,\u001b[0m \u001b[0;36m2\u001b[0m\u001b[0;34m:\u001b[0m\u001b[0;34m'bh'\u001b[0m\u001b[0;34m,\u001b[0m \u001b[0;36m4\u001b[0m\u001b[0;34m:\u001b[0m\u001b[0;34m'dh'\u001b[0m\u001b[0;34m}\u001b[0m\u001b[0;34m\u001b[0m\u001b[0;34m\u001b[0m\u001b[0m\n\u001b[1;32m      2\u001b[0m \u001b[0mprint\u001b[0m\u001b[0;34m(\u001b[0m\u001b[0mdata\u001b[0m\u001b[0;34m[\u001b[0m\u001b[0;36m4\u001b[0m\u001b[0;34m]\u001b[0m\u001b[0;34m)\u001b[0m\u001b[0;34m\u001b[0m\u001b[0;34m\u001b[0m\u001b[0m\n\u001b[0;32m----> 3\u001b[0;31m \u001b[0mprint\u001b[0m\u001b[0;34m(\u001b[0m\u001b[0mdata\u001b[0m\u001b[0;34m[\u001b[0m\u001b[0;36m3\u001b[0m\u001b[0;34m]\u001b[0m\u001b[0;34m)\u001b[0m\u001b[0;34m\u001b[0m\u001b[0;34m\u001b[0m\u001b[0m\n\u001b[0m",
            "\u001b[0;31mKeyError\u001b[0m: 3"
          ]
        }
      ]
    },
    {
      "cell_type": "code",
      "metadata": {
        "colab": {
          "base_uri": "https://localhost:8080/",
          "height": 35
        },
        "id": "ZGjFkU7t52Pt",
        "outputId": "84447d5c-e973-4aa1-8416-4114acb0dba3"
      },
      "source": [
        "data ={1:'ah', 2:'bh', 4:'dh'}\n",
        "data.get(1)\n",
        "data.get(4)\n",
        "data.get(3)\n",
        "data.get(3,'Page not found' )"
      ],
      "execution_count": null,
      "outputs": [
        {
          "output_type": "execute_result",
          "data": {
            "application/vnd.google.colaboratory.intrinsic+json": {
              "type": "string"
            },
            "text/plain": [
              "'Page not found'"
            ]
          },
          "metadata": {
            "tags": []
          },
          "execution_count": 30
        }
      ]
    },
    {
      "cell_type": "code",
      "metadata": {
        "colab": {
          "base_uri": "https://localhost:8080/"
        },
        "id": "JB2x5O286k-b",
        "outputId": "d828ecb6-9b2a-4745-caf9-5c316387419f"
      },
      "source": [
        "keys=['a','b','c']\n",
        "values=['phy','che','math']\n",
        "data=dict(zip(keys,values))\n",
        "print(data)\n",
        "data['b']\n",
        "data['d']='mal'\n",
        "print(data)\n",
        "#data"
      ],
      "execution_count": null,
      "outputs": [
        {
          "output_type": "stream",
          "text": [
            "{'a': 'phy', 'b': 'che', 'c': 'math'}\n",
            "{'a': 'phy', 'b': 'che', 'c': 'math', 'd': 'mal'}\n"
          ],
          "name": "stdout"
        }
      ]
    },
    {
      "cell_type": "code",
      "metadata": {
        "colab": {
          "base_uri": "https://localhost:8080/",
          "height": 35
        },
        "id": "cSA01YfG7jPe",
        "outputId": "8bf14dcc-051e-45bc-ce41-81a2246becdc"
      },
      "source": [
        "prog={'JS':'Atom','cs':'vs','Phython':['Pycham','Sublime'],'Java':{'JES':'Net Beans','JEE':'Eclipse'}}\n",
        "prog['JS']\n",
        "prog['Phython']\n",
        "prog['Phython'][1]\n",
        "prog['Java']\n",
        "prog['Java']['JEE']"
      ],
      "execution_count": null,
      "outputs": [
        {
          "output_type": "execute_result",
          "data": {
            "application/vnd.google.colaboratory.intrinsic+json": {
              "type": "string"
            },
            "text/plain": [
              "'Eclipse'"
            ]
          },
          "metadata": {
            "tags": []
          },
          "execution_count": 40
        }
      ]
    },
    {
      "cell_type": "markdown",
      "metadata": {
        "id": "_MN5dgUr6Bid"
      },
      "source": [
        "**List Comprehension**\n",
        "List comprehension offers a shorter syntax when you want to create a new list based on the values of an existing list.\n",
        "Syntax:\n",
        "[expr for val in collection]\n",
        "[expr for val in collection if<test>]\n",
        "[expr for val in collection if<test1> and if<test2>]\n"
      ]
    },
    {
      "cell_type": "markdown",
      "metadata": {
        "id": "zXJAoF_M7kNI"
      },
      "source": [
        "The Syntax\n",
        "newlist = [expression for item in iterable if condition == True]\n",
        "The return value is a new list, leaving the old list unchanged.\n",
        "\n",
        "Condition\n",
        "The condition is like a filter that only accepts the items that valuate to True."
      ]
    },
    {
      "cell_type": "code",
      "metadata": {
        "colab": {
          "base_uri": "https://localhost:8080/"
        },
        "id": "WSJg6oaTfehw",
        "outputId": "b9218c00-0ccc-44a0-cbcd-06f3461f89ba"
      },
      "source": [
        "#List of squares\n",
        "# list of squarea with first 100 positive integers\n",
        "squarelist=[]\n",
        "for i in range(1,101):\n",
        "  squarelist.append(i**2)\n",
        "print(squarelist)  \n"
      ],
      "execution_count": null,
      "outputs": [
        {
          "output_type": "stream",
          "text": [
            "[1, 4, 9, 16, 25, 36, 49, 64, 81, 100, 121, 144, 169, 196, 225, 256, 289, 324, 361, 400, 441, 484, 529, 576, 625, 676, 729, 784, 841, 900, 961, 1024, 1089, 1156, 1225, 1296, 1369, 1444, 1521, 1600, 1681, 1764, 1849, 1936, 2025, 2116, 2209, 2304, 2401, 2500, 2601, 2704, 2809, 2916, 3025, 3136, 3249, 3364, 3481, 3600, 3721, 3844, 3969, 4096, 4225, 4356, 4489, 4624, 4761, 4900, 5041, 5184, 5329, 5476, 5625, 5776, 5929, 6084, 6241, 6400, 6561, 6724, 6889, 7056, 7225, 7396, 7569, 7744, 7921, 8100, 8281, 8464, 8649, 8836, 9025, 9216, 9409, 9604, 9801, 10000]\n"
          ],
          "name": "stdout"
        }
      ]
    },
    {
      "cell_type": "code",
      "metadata": {
        "colab": {
          "base_uri": "https://localhost:8080/"
        },
        "id": "6ACxMLxTgV9E",
        "outputId": "56b695c0-7e54-4573-b9e3-271f63a32b05"
      },
      "source": [
        "squarelist=[i**2 for i in range(1,101)]\n",
        "print(squarelist)"
      ],
      "execution_count": null,
      "outputs": [
        {
          "output_type": "stream",
          "text": [
            "[1, 4, 9, 16, 25, 36, 49, 64, 81, 100, 121, 144, 169, 196, 225, 256, 289, 324, 361, 400, 441, 484, 529, 576, 625, 676, 729, 784, 841, 900, 961, 1024, 1089, 1156, 1225, 1296, 1369, 1444, 1521, 1600, 1681, 1764, 1849, 1936, 2025, 2116, 2209, 2304, 2401, 2500, 2601, 2704, 2809, 2916, 3025, 3136, 3249, 3364, 3481, 3600, 3721, 3844, 3969, 4096, 4225, 4356, 4489, 4624, 4761, 4900, 5041, 5184, 5329, 5476, 5625, 5776, 5929, 6084, 6241, 6400, 6561, 6724, 6889, 7056, 7225, 7396, 7569, 7744, 7921, 8100, 8281, 8464, 8649, 8836, 9025, 9216, 9409, 9604, 9801, 10000]\n"
          ],
          "name": "stdout"
        }
      ]
    },
    {
      "cell_type": "code",
      "metadata": {
        "id": "khkmqDJgCDH8"
      },
      "source": [
        ""
      ],
      "execution_count": null,
      "outputs": []
    },
    {
      "cell_type": "code",
      "metadata": {
        "colab": {
          "base_uri": "https://localhost:8080/"
        },
        "id": "JjtdyYyTg11-",
        "outputId": "b55e0457-c936-4ea3-b826-51c689b5beca"
      },
      "source": [
        "#squarelist=[1,4,9,16,25]\n",
        "squarelist=[i**2 for i in range(1,6)]\n",
        "print(squarelist)"
      ],
      "execution_count": null,
      "outputs": [
        {
          "output_type": "stream",
          "text": [
            "[1, 4, 9, 16, 25]\n"
          ],
          "name": "stdout"
        }
      ]
    },
    {
      "cell_type": "code",
      "metadata": {
        "colab": {
          "base_uri": "https://localhost:8080/"
        },
        "id": "-Tt9G7-y5Mlt",
        "outputId": "4c366425-5c7d-4965-ff70-e84f28e10701"
      },
      "source": [
        "#want a new list, containing only the fruits with the letter \"a\" in the name.\n",
        "fruits = [\"apple\", \"banana\", \"cherry\", \"kiwi\", \"mango\"]\n",
        "newlist = []\n",
        "\n",
        "for x in fruits:\n",
        "  if \"a\" in x:\n",
        "    newlist.append(x)\n",
        "\n",
        "print(newlist)"
      ],
      "execution_count": null,
      "outputs": [
        {
          "output_type": "stream",
          "text": [
            "['apple', 'banana', 'mango']\n"
          ],
          "name": "stdout"
        }
      ]
    },
    {
      "cell_type": "code",
      "metadata": {
        "colab": {
          "base_uri": "https://localhost:8080/"
        },
        "id": "sMrT5I4A7B8X",
        "outputId": "195d9b42-ca69-4c92-8356-4c1957dadf36"
      },
      "source": [
        "#With list comprehension you can do all that with only one line of code:\n",
        "fruits = [\"apple\", \"banana\", \"cherry\", \"kiwi\", \"mango\"]\n",
        "\n",
        "newlist = [x for x in fruits if \"a\" in x]\n",
        "print(newlist)"
      ],
      "execution_count": null,
      "outputs": [
        {
          "output_type": "stream",
          "text": [
            "['apple', 'banana', 'mango']\n"
          ],
          "name": "stdout"
        }
      ]
    },
    {
      "cell_type": "code",
      "metadata": {
        "id": "4jd_sGQW7cYK",
        "colab": {
          "base_uri": "https://localhost:8080/"
        },
        "outputId": "3ebe4ffe-de80-47b0-fa8d-caa78dff2fed"
      },
      "source": [
        "#Looping on list\n",
        "list1=[1,3,5,7,9]\n",
        "list2=[2,4,6,8,10]\n",
        "#[(1,2),(3,4),(5,6),(7,8),(9,10).....]\n",
        "pair =[(x,y) for x in list1 for y in list2 if x!=y]\n",
        "print(pair)"
      ],
      "execution_count": null,
      "outputs": [
        {
          "output_type": "stream",
          "text": [
            "[(1, 2), (1, 4), (1, 6), (1, 8), (1, 10), (3, 2), (3, 4), (3, 6), (3, 8), (3, 10), (5, 2), (5, 4), (5, 6), (5, 8), (5, 10), (7, 2), (7, 4), (7, 6), (7, 8), (7, 10), (9, 2), (9, 4), (9, 6), (9, 8), (9, 10)]\n"
          ],
          "name": "stdout"
        }
      ]
    },
    {
      "cell_type": "code",
      "metadata": {
        "id": "GpCvvjz7OwEF"
      },
      "source": [
        ""
      ],
      "execution_count": null,
      "outputs": []
    },
    {
      "cell_type": "markdown",
      "metadata": {
        "id": "sGuj_p7hL8EG"
      },
      "source": [
        "Python break statement\n",
        "\n",
        "The break statement takes care of terminating the loop in which it is used. If the break statement is used inside nested loops, the current loop is terminated, and the flow will continue with the code followed that comes after the loop.\n"
      ]
    },
    {
      "cell_type": "code",
      "metadata": {
        "colab": {
          "base_uri": "https://localhost:8080/"
        },
        "id": "ekpSZ1NcHEHM",
        "outputId": "ba92d9d7-a132-434a-e320-bca11094c660"
      },
      "source": [
        "for letter in 'Python':    \n",
        "   if letter == 'h':\n",
        "      break\n",
        "   print ('Current Letter :', letter)\n",
        "  \n",
        "var = 10                    \n",
        "while var > 0:              \n",
        "   print ('Current variable value :', var)\n",
        "   var = var -1\n",
        "   if var == 5:\n",
        "      break\n",
        "\n",
        "print (\"Good bye!\")"
      ],
      "execution_count": null,
      "outputs": [
        {
          "output_type": "stream",
          "text": [
            "Current Letter : P\n",
            "Current Letter : y\n",
            "Current Letter : t\n",
            "Current variable value : 10\n",
            "Current variable value : 9\n",
            "Current variable value : 8\n",
            "Current variable value : 7\n",
            "Current variable value : 6\n",
            "Good bye!\n"
          ],
          "name": "stdout"
        }
      ]
    },
    {
      "cell_type": "markdown",
      "metadata": {
        "id": "GeXINpftNVXB"
      },
      "source": [
        "**The continue Statement:**\n",
        "\n",
        "The continue statement in Python returns the control to the beginning of the while loop. The continue statement rejects all the remaining statements in the current iteration of the loop and moves the control back to the top of the loop.\n",
        "\n",
        "The continue statement can be used in both while and for loops."
      ]
    },
    {
      "cell_type": "code",
      "metadata": {
        "colab": {
          "base_uri": "https://localhost:8080/"
        },
        "id": "utgyzCseNU0U",
        "outputId": "1bdaa292-39fa-46c2-fcce-d37403e38a6b"
      },
      "source": [
        "for letter in 'Python':  \n",
        "   if letter == 'h':\n",
        "      continue\n",
        "   print ('Current Letter :', letter)\n",
        "\n",
        "var = 10                   \n",
        "while var > 0:              \n",
        "   var = var -1\n",
        "   if var == 5:\n",
        "      continue\n",
        "   print ('Current variable value :', var)\n",
        "print (\"Good bye!\")"
      ],
      "execution_count": null,
      "outputs": [
        {
          "output_type": "stream",
          "text": [
            "Current Letter : P\n",
            "Current Letter : y\n",
            "Current Letter : t\n",
            "Current Letter : o\n",
            "Current Letter : n\n",
            "Current variable value : 9\n",
            "Current variable value : 8\n",
            "Current variable value : 7\n",
            "Current variable value : 6\n",
            "Current variable value : 4\n",
            "Current variable value : 3\n",
            "Current variable value : 2\n",
            "Current variable value : 1\n",
            "Current variable value : 0\n",
            "Good bye!\n"
          ],
          "name": "stdout"
        }
      ]
    },
    {
      "cell_type": "markdown",
      "metadata": {
        "id": "ZcQa3K6vOC-U"
      },
      "source": [
        "**The pass Statement:**\n",
        "\n",
        "The pass statement in Python is used when a statement is required syntactically but you do not want any command or code to execute.\n",
        "\n",
        "The pass statement is a null operation; nothing happens when it executes. The pass is also useful in places where your code will eventually go\n",
        "It is used as a placeholder"
      ]
    },
    {
      "cell_type": "code",
      "metadata": {
        "colab": {
          "base_uri": "https://localhost:8080/"
        },
        "id": "pRs5SrlSPu25",
        "outputId": "6d426b5e-f7e4-487c-df8b-491c34500e9b"
      },
      "source": [
        "for letter in 'Python': \n",
        "   if letter == 'h':\n",
        "      pass\n",
        "      print ('This is pass block')\n",
        "   print ('Current Letter :', letter)\n",
        "\n",
        "print (\"Good bye!\")"
      ],
      "execution_count": null,
      "outputs": [
        {
          "output_type": "stream",
          "text": [
            "Current Letter : P\n",
            "Current Letter : y\n",
            "Current Letter : t\n",
            "This is pass block\n",
            "Current Letter : h\n",
            "Current Letter : o\n",
            "Current Letter : n\n",
            "Good bye!\n"
          ],
          "name": "stdout"
        }
      ]
    },
    {
      "cell_type": "code",
      "metadata": {
        "colab": {
          "base_uri": "https://localhost:8080/"
        },
        "id": "75Y6W9kXO7D0",
        "outputId": "533604e3-e577-424d-bb4a-b33126828f56"
      },
      "source": [
        "#print 0-9 excluding 9\n",
        "count=0\n",
        "while count < 9:\n",
        "  print(\"number:\",count)\n",
        "  count=count+1\n",
        "print(\"goodbye\")"
      ],
      "execution_count": null,
      "outputs": [
        {
          "output_type": "stream",
          "text": [
            "number: 0\n",
            "number: 1\n",
            "number: 2\n",
            "number: 3\n",
            "number: 4\n",
            "number: 5\n",
            "number: 6\n",
            "number: 7\n",
            "number: 8\n",
            "goodbye\n"
          ],
          "name": "stdout"
        }
      ]
    },
    {
      "cell_type": "code",
      "metadata": {
        "colab": {
          "base_uri": "https://localhost:8080/"
        },
        "id": "3n91IYTgQGO8",
        "outputId": "ce44fdda-a50a-4218-d668-ac9f12633eb2"
      },
      "source": [
        "#Using random no-Gussing game\n",
        "import random\n",
        "n=20\n",
        "no_gussed=int(n*random.random()+1)\n",
        "#print(\"random no\",no_gussed)\n",
        "guess=0\n",
        "while guess!= no_gussed:\n",
        "  guess=int(input(\"New no:\"))\n",
        "  if guess>0:\n",
        "    if guess >no_gussed:\n",
        "      print(\"no is too large\",)\n",
        "    elif guess<no_gussed:\n",
        "      print(\"no is too small\")\n",
        "  else:    \n",
        "     print(\"Sorry i am giving up\")\n",
        "     break\n",
        "else:\n",
        "  print(\"congrats ,you made it\")"
      ],
      "execution_count": null,
      "outputs": [
        {
          "output_type": "stream",
          "text": [
            "no is too large\n",
            "no is too large\n",
            "no is too large\n",
            "no is too large\n",
            "no is too large\n"
          ],
          "name": "stdout"
        }
      ]
    },
    {
      "cell_type": "code",
      "metadata": {
        "colab": {
          "base_uri": "https://localhost:8080/"
        },
        "id": "Xx0KctZPUuZ4",
        "outputId": "d14a7381-c9b9-4485-a772-2a8f9a243794"
      },
      "source": [
        "fruits=['mango','grapes','apple']\n",
        "for f in fruits:\n",
        "  print (\"Current fruit:\",f)\n",
        "print('goodbye')"
      ],
      "execution_count": null,
      "outputs": [
        {
          "output_type": "stream",
          "text": [
            "Current fruit: mango\n",
            "Current fruit: graps\n",
            "Current fruit: apple\n",
            "goodbye\n"
          ],
          "name": "stdout"
        }
      ]
    },
    {
      "cell_type": "code",
      "metadata": {
        "colab": {
          "base_uri": "https://localhost:8080/"
        },
        "id": "acWTk_DvjP9_",
        "outputId": "c78e3961-ef05-4f75-8fc1-a7cd025532f8"
      },
      "source": [
        "#nested loop \n",
        "for i in range(2,20,1):\n",
        "  count =0\n",
        "  for j in range(1,i+1,1):\n",
        "    if i%j == 0:\n",
        "      count=count+1\n",
        "  if count==2:\n",
        "    print(i,\" is prime\")"
      ],
      "execution_count": null,
      "outputs": [
        {
          "output_type": "stream",
          "text": [
            "2  is prime\n",
            "3  is prime\n",
            "5  is prime\n",
            "7  is prime\n",
            "11  is prime\n",
            "13  is prime\n",
            "17  is prime\n",
            "19  is prime\n"
          ],
          "name": "stdout"
        }
      ]
    },
    {
      "cell_type": "code",
      "metadata": {
        "colab": {
          "base_uri": "https://localhost:8080/"
        },
        "id": "qOtcy4HdYraS",
        "outputId": "211e630c-d2d7-46cf-afa2-ebf50a4ec62a"
      },
      "source": [
        "#gcd of two positive integers\n",
        "a =int(input(\"Enter the first no:\"))\n",
        "b=int(input(\"Enter the second no\"))\n",
        "for i in range(1,min(a,b)+1):\n",
        "  if(a%i==0 and b%i==0):\n",
        "    gcd=i\n",
        "print(\"GCD of \",a,\"and\",b,\"is\",gcd)\n"
      ],
      "execution_count": null,
      "outputs": [
        {
          "output_type": "stream",
          "text": [
            "Enter the first no:5\n",
            "Enter the second no25\n",
            "GCD of  5 and 25 is 5\n"
          ],
          "name": "stdout"
        }
      ]
    },
    {
      "cell_type": "code",
      "metadata": {
        "colab": {
          "base_uri": "https://localhost:8080/"
        },
        "id": "4VZRe8GCVYmQ",
        "outputId": "e85ee310-67ea-44e1-ae57-df9698c2f680"
      },
      "source": [
        "#factorial of given no\n",
        "num=int(input(\"Number:\"))\n",
        "fact=1\n",
        "#if num==0:\n",
        " # print(\"Factorial is 1\")\n",
        "#else:\n",
        "  for i in range(1,num+1):\n",
        "    fact=fact*i\n",
        "print(\"Factorial of the given no is\", fact)\n",
        "print(\"goodbye\")\n",
        "\n"
      ],
      "execution_count": null,
      "outputs": [
        {
          "output_type": "stream",
          "text": [
            "Number:0\n",
            "Factorial is 1\n",
            "Factorial of the given no is 1\n",
            "goodbye\n"
          ],
          "name": "stdout"
        }
      ]
    },
    {
      "cell_type": "code",
      "metadata": {
        "colab": {
          "base_uri": "https://localhost:8080/"
        },
        "id": "Q-GHaGXUaP-z",
        "outputId": "cbe3a2bc-e5d7-44f8-bf7d-68769ea27766"
      },
      "source": [
        "#Fibonacci series of first Nnumber\n",
        "n=int(input(\"Enter the number of terms:\"))\n",
        "f1,f2=0,1\n",
        "f3=f1+f2\n",
        "print(\"the fibonacci series of first \",n,\"terms\")\n",
        "print(f1)\n",
        "print(f2)\n",
        "for i in range(3,n+1):\n",
        "  print(f3)\n",
        "  f1=f2\n",
        "  f2=f3\n",
        "  f3=f1+f2\n",
        "\n"
      ],
      "execution_count": null,
      "outputs": [
        {
          "output_type": "stream",
          "text": [
            "Enter the number of terms:7\n",
            "the fibonacci series of first  7 terms\n",
            "0\n",
            "1\n",
            "1\n",
            "2\n",
            "3\n",
            "5\n",
            "8\n"
          ],
          "name": "stdout"
        }
      ]
    },
    {
      "cell_type": "code",
      "metadata": {
        "colab": {
          "base_uri": "https://localhost:8080/"
        },
        "id": "CRoc7qOPb36v",
        "outputId": "23ff4025-e216-48af-8321-069921cf891c"
      },
      "source": [
        "#Print no from 1-20 ,For every 3 multiples print MCA and fifth multiple print @SNGCE and for both 3rd and 5th multiple print MCA@SNGCE\n",
        "for i in range(1,21):\n",
        "  if i%3==0 and i%5==0:\n",
        "    print(\"MCA@SNGCE\")\n",
        "  elif i%3==0:\n",
        "    print(\"MCA\")\n",
        "  elif i%5==0:\n",
        "    print(\"@SNGCE\")\n",
        "  else:\n",
        "    print(i)\n",
        "print(\"GOOD bye\")\n"
      ],
      "execution_count": null,
      "outputs": [
        {
          "output_type": "stream",
          "text": [
            "1\n",
            "2\n",
            "MCA\n",
            "4\n",
            "@SNGCE\n",
            "MCA\n",
            "7\n",
            "8\n",
            "MCA\n",
            "@SNGCE\n",
            "11\n",
            "MCA\n",
            "13\n",
            "14\n",
            "MCA@SNGCE\n",
            "16\n",
            "17\n",
            "MCA\n",
            "19\n",
            "@SNGCE\n",
            "GOOD bye\n"
          ],
          "name": "stdout"
        }
      ]
    },
    {
      "cell_type": "code",
      "metadata": {
        "colab": {
          "base_uri": "https://localhost:8080/"
        },
        "id": "yugpKzRgdU3P",
        "outputId": "8c528e4f-a0d0-4228-8ea8-13169495c963"
      },
      "source": [
        "#program for pyramid\n",
        "''' print a pattern\n",
        "1\n",
        "2 2\n",
        "3 3 3\n",
        "4 4 4 4\n",
        "'''\n",
        "n=int(input(\"Enter the step size\"))\n",
        "for i in range(1,n+1):\n",
        "  for j in range (1,i+1):\n",
        "    print(i,end=' ')\n",
        "  print()\n"
      ],
      "execution_count": null,
      "outputs": [
        {
          "output_type": "stream",
          "text": [
            "Enter the step size3\n",
            "1 \n",
            "2 2 \n",
            "3 3 3 \n"
          ],
          "name": "stdout"
        }
      ]
    },
    {
      "cell_type": "code",
      "metadata": {
        "id": "CWUBsXfCSQF2",
        "colab": {
          "base_uri": "https://localhost:8080/"
        },
        "outputId": "de839ff1-e0e1-4809-9e30-381a9d9a18bb"
      },
      "source": [
        "\"\"\"#prm to print Pythagorean number\n",
        "|\\\n",
        "| \\\n",
        "|__\\ a**2 +b**2 =c**2\"\"\"\n",
        "\n",
        "from math import sqrt\n",
        "n=int(input(\"Maximal no:\"))\n",
        "for a in range (1,n+1):\n",
        "  for b in range(a,n):\n",
        "    c_square=a**2 + b**2\n",
        "    c=int(sqrt(c_square))\n",
        "    if((c_square-c**2)==0):\n",
        "      print(a,b,c)\n",
        "\n"
      ],
      "execution_count": null,
      "outputs": [
        {
          "output_type": "stream",
          "text": [
            "Maximal no:20\n",
            "3 4 5\n",
            "5 12 13\n",
            "6 8 10\n",
            "8 15 17\n",
            "9 12 15\n",
            "12 16 20\n"
          ],
          "name": "stdout"
        }
      ]
    },
    {
      "cell_type": "code",
      "metadata": {
        "id": "ldykV4NRiz5U",
        "colab": {
          "base_uri": "https://localhost:8080/",
          "height": 411
        },
        "outputId": "339ad01e-4be3-43c8-c2e3-2e36febf5954"
      },
      "source": [
        "#for loop inside a while loop\n",
        "#Bulk Reservation of ticket\n",
        "travelling = input(\"yes  or no\")\n",
        "while travelling == \"yes\":\n",
        "  num=int(input(\"no of people travelling\"))\n",
        "  for num in range(1,num+1):\n",
        "    name=input(\"Name of the Passenger:\")\n",
        "    age=input(\"Age:\")\n",
        "    sex=input(\"Male or Female:\")\n",
        "    print(name)\n",
        "    print(age)\n",
        "    print(sex)\n",
        "    break\n",
        "travelling=input(\"oops ! i forgot someone\")"
      ],
      "execution_count": null,
      "outputs": [
        {
          "output_type": "stream",
          "text": [
            "yes  or noyes\n",
            "no of people travelling2\n",
            "Name of the Passenger:s\n",
            "Age:23\n",
            "Male or Female:Male\n",
            "s\n",
            "23\n",
            "Male\n",
            "no of people travellingno\n"
          ],
          "name": "stdout"
        },
        {
          "output_type": "error",
          "ename": "ValueError",
          "evalue": "ignored",
          "traceback": [
            "\u001b[0;31m---------------------------------------------------------------------------\u001b[0m",
            "\u001b[0;31mValueError\u001b[0m                                Traceback (most recent call last)",
            "\u001b[0;32m<ipython-input-8-b286765ac6a9>\u001b[0m in \u001b[0;36m<module>\u001b[0;34m()\u001b[0m\n\u001b[1;32m      3\u001b[0m \u001b[0mtravelling\u001b[0m \u001b[0;34m=\u001b[0m \u001b[0minput\u001b[0m\u001b[0;34m(\u001b[0m\u001b[0;34m\"yes  or no\"\u001b[0m\u001b[0;34m)\u001b[0m\u001b[0;34m\u001b[0m\u001b[0;34m\u001b[0m\u001b[0m\n\u001b[1;32m      4\u001b[0m \u001b[0;32mwhile\u001b[0m \u001b[0mtravelling\u001b[0m \u001b[0;34m==\u001b[0m \u001b[0;34m\"yes\"\u001b[0m\u001b[0;34m:\u001b[0m\u001b[0;34m\u001b[0m\u001b[0;34m\u001b[0m\u001b[0m\n\u001b[0;32m----> 5\u001b[0;31m   \u001b[0mnum\u001b[0m\u001b[0;34m=\u001b[0m\u001b[0mint\u001b[0m\u001b[0;34m(\u001b[0m\u001b[0minput\u001b[0m\u001b[0;34m(\u001b[0m\u001b[0;34m\"no of people travelling\"\u001b[0m\u001b[0;34m)\u001b[0m\u001b[0;34m)\u001b[0m\u001b[0;34m\u001b[0m\u001b[0;34m\u001b[0m\u001b[0m\n\u001b[0m\u001b[1;32m      6\u001b[0m   \u001b[0;32mfor\u001b[0m \u001b[0mnum\u001b[0m \u001b[0;32min\u001b[0m \u001b[0mrange\u001b[0m\u001b[0;34m(\u001b[0m\u001b[0;36m1\u001b[0m\u001b[0;34m,\u001b[0m\u001b[0mnum\u001b[0m\u001b[0;34m+\u001b[0m\u001b[0;36m1\u001b[0m\u001b[0;34m)\u001b[0m\u001b[0;34m:\u001b[0m\u001b[0;34m\u001b[0m\u001b[0;34m\u001b[0m\u001b[0m\n\u001b[1;32m      7\u001b[0m     \u001b[0mname\u001b[0m\u001b[0;34m=\u001b[0m\u001b[0minput\u001b[0m\u001b[0;34m(\u001b[0m\u001b[0;34m\"Name of the Passenger:\"\u001b[0m\u001b[0;34m)\u001b[0m\u001b[0;34m\u001b[0m\u001b[0;34m\u001b[0m\u001b[0m\n",
            "\u001b[0;31mValueError\u001b[0m: invalid literal for int() with base 10: 'no'"
          ]
        }
      ]
    },
    {
      "cell_type": "code",
      "metadata": {
        "colab": {
          "base_uri": "https://localhost:8080/"
        },
        "id": "_Kn217H3CHbj",
        "outputId": "9aa193fc-f774-4ae4-a3d7-2ecf95cda055"
      },
      "source": [
        "#Lambda Function definition\n",
        "square=lambda x : x*x\n",
        "#usage of lambda function\n",
        "n=int(input(\"Ënter a number \"))\n",
        "print(\"Square of number is  \" , square(n))#lambda function call"
      ],
      "execution_count": null,
      "outputs": [
        {
          "output_type": "stream",
          "text": [
            "Ënter a number 4\n",
            "Square of number is   16\n"
          ],
          "name": "stdout"
        }
      ]
    },
    {
      "cell_type": "code",
      "metadata": {
        "colab": {
          "base_uri": "https://localhost:8080/"
        },
        "id": "OIEeBrO3C_pA",
        "outputId": "86be7f30-ee9c-4ecd-a4fa-5cf40811a8ec"
      },
      "source": [
        "sum=lambda x,y :x+y\n",
        "m=int(input('Enter the first number : '))\n",
        "n=int(input(\"Enter the second number :\"))\n",
        "print(\"Sum of two numbers\",sum(m,n))"
      ],
      "execution_count": null,
      "outputs": [
        {
          "output_type": "stream",
          "text": [
            "Enter the first number : 3\n",
            "Enter the second number :6\n",
            "Sum of two numbers 9\n"
          ],
          "name": "stdout"
        }
      ]
    },
    {
      "cell_type": "code",
      "metadata": {
        "colab": {
          "base_uri": "https://localhost:8080/"
        },
        "id": "qCBa8HeqtCfz",
        "outputId": "cd29d689-ea65-41f4-9c16-c1604ce8c00f"
      },
      "source": [
        "print(\"Select\\n 1.Area of Square\\n 2.Area of rectangle\")\n",
        "n=int(input('Enter the choice: 1/2'))\n",
        "\n",
        "if(n==1):\n",
        "  area_square=lambda a : 4*a\n",
        "  a=int(input(\"Enter the side of a square:\"))\n",
        "  print(\"Area of square is :\",area_square(a))\n",
        "elif(n==2):\n",
        "  area_rectangle=lambda l,b : l*b\n",
        "  l=int(input('Ënter the length of rectangle' ))\n",
        "  b=int(input('Ënter the breadth of rectangle' ))\n",
        "  print('Area of rectangleis ;',area_rectangle(l,b))\n",
        "else:\n",
        "  print(\"Ïnvalid choice\")"
      ],
      "execution_count": null,
      "outputs": [
        {
          "output_type": "stream",
          "text": [
            "Select\n",
            " 1.Area of Square\n",
            " 2.Area of rectangle\n",
            "Enter the choice: 1/21\n",
            "Enter the side of a square:4\n",
            "Area of square is : 16\n"
          ],
          "name": "stdout"
        }
      ]
    },
    {
      "cell_type": "code",
      "metadata": {
        "colab": {
          "base_uri": "https://localhost:8080/"
        },
        "id": "fY4blnmg4UtL",
        "outputId": "0eecbff1-0107-45be-ae06-cab6fb628a96"
      },
      "source": [
        "from math import pi\n",
        "r = float(input (\"Input the radius of the circle : \"))\n",
        "Area_Circle=pi*r**2\n",
        "print('Area of circle is {}'.format(Area_Circle))"
      ],
      "execution_count": null,
      "outputs": [
        {
          "output_type": "stream",
          "text": [
            "Input the radius of the circle : 2\n",
            "Area of circle is 12.566370614359172\n"
          ],
          "name": "stdout"
        }
      ]
    },
    {
      "cell_type": "markdown",
      "metadata": {
        "id": "YKT4t8sHFSct"
      },
      "source": [
        " #** Passing function as an argument in Python**\n",
        " function can take multiple arguments, these arguments can be objects, variables(of same or different data types) and functions. Python functions are first class objects. In the example below, a function is assigned to a variable. This assignment doesn’t call the function. It takes the function object referenced by shout and creates a second name pointing to it, yell."
      ]
    },
    {
      "cell_type": "code",
      "metadata": {
        "id": "cpMmWLl5FJCd",
        "colab": {
          "base_uri": "https://localhost:8080/"
        },
        "outputId": "6eea52aa-901f-4f79-de87-d0c49c3f83d8"
      },
      "source": [
        " # Python program to illustrate functions  \n",
        "# can be treated as objects  \n",
        "def shout(text):  \n",
        "    return text.upper()\n",
        "print(shout('Hello'))  \n",
        "    \n",
        "yell = shout  \n",
        "    \n",
        "print(yell('Hello'))    \n"
      ],
      "execution_count": null,
      "outputs": [
        {
          "output_type": "stream",
          "text": [
            "HELLO\n",
            "HELLO\n"
          ],
          "name": "stdout"
        }
      ]
    },
    {
      "cell_type": "markdown",
      "metadata": {
        "id": "m0GRKurjHy-g"
      },
      "source": [
        "#Uses of lambda function- used with filter(),map() etc\n",
        "#filter() takes in a function and a list as arguments\n",
        "#The function is called with all the items in the list and a new list is returned which contains items for which the function evaluates to true"
      ]
    },
    {
      "cell_type": "code",
      "metadata": {
        "colab": {
          "base_uri": "https://localhost:8080/"
        },
        "id": "SeJjQy2xDv_a",
        "outputId": "eb249efc-531e-4d88-8f4c-f704bd802ebe"
      },
      "source": [
        "oldlist=[2,41,54,3,22,99,55]\n",
        "newlist=list(filter(lambda x: (x%2!=0),oldlist))\n",
        "print(oldlist)\n",
        "print(newlist)\n"
      ],
      "execution_count": null,
      "outputs": [
        {
          "output_type": "stream",
          "text": [
            "[2, 41, 54, 3, 22, 99, 55]\n",
            "[41, 3, 99, 55]\n"
          ],
          "name": "stdout"
        }
      ]
    },
    {
      "cell_type": "code",
      "metadata": {
        "colab": {
          "base_uri": "https://localhost:8080/"
        },
        "id": "PzvObZipIkfi",
        "outputId": "98a7c6df-edfa-4009-9b3c-530ec605dbf4"
      },
      "source": [
        "# using map()\n",
        "# in python map() function takes in a function and a list\n",
        "oldlist=[2,45,6,99,33,55]\n",
        "print(oldlist)\n",
        "newlist=list(map(lambda x: x+2,oldlist))\n",
        "print(\"List after incrementation by 2\")\n",
        "print(newlist)"
      ],
      "execution_count": null,
      "outputs": [
        {
          "output_type": "stream",
          "text": [
            "[2, 45, 6, 99, 33, 55]\n",
            "List after incrementation by 2\n",
            "[4, 47, 8, 101, 35, 57]\n"
          ],
          "name": "stdout"
        }
      ]
    },
    {
      "cell_type": "code",
      "metadata": {
        "colab": {
          "base_uri": "https://localhost:8080/"
        },
        "id": "8uiPMPBtJhGs",
        "outputId": "6bfbb87a-e41e-4df1-87f3-ae0c6e51fed9"
      },
      "source": [
        "def rec_fact(x):\n",
        "  if x==1:\n",
        "    return 1\n",
        "  else:\n",
        "    return(x * rec_fact(x-1))\n",
        "num=int(input(\"Enter a number : \"))\n",
        "if num >= 1:\n",
        "  print(\"The factorial of the number is \", rec_fact(num))"
      ],
      "execution_count": null,
      "outputs": [
        {
          "output_type": "stream",
          "text": [
            "Enter a number : 3\n",
            "The factorial of the number is  6\n"
          ],
          "name": "stdout"
        }
      ]
    },
    {
      "cell_type": "code",
      "metadata": {
        "colab": {
          "base_uri": "https://localhost:8080/"
        },
        "id": "6q-DHCpAKuzL",
        "outputId": "84569f9d-9958-402b-c33d-cc06b903082b"
      },
      "source": [
        "# function with more than one return value\n",
        "def calc(a,b):\n",
        "  sum=a+b\n",
        "  diff=a-b\n",
        "  prod=a*b\n",
        "  quot=a/b\n",
        "  return sum,diff,prod,quot\n",
        "a=int(input(\"Enter the first number :\"))\n",
        "b=int(input(\"Enter the second Number :\"))\n",
        "s,d,p,q=calc(a,b)\n",
        "print(\"Sum =\" ,s)\n",
        "print(\"Diff=\",d)\n",
        "print(\"Product\",p)\n",
        "print(\"Quotient=\",q)\n",
        "\n"
      ],
      "execution_count": null,
      "outputs": [
        {
          "output_type": "stream",
          "text": [
            "Enter the first number :4\n",
            "Enter the second Number :6\n",
            "Sum = 10\n",
            "Diff= -2\n",
            "Product 24\n",
            "Quotient= 0.6666666666666666\n"
          ],
          "name": "stdout"
        }
      ]
    },
    {
      "cell_type": "code",
      "metadata": {
        "colab": {
          "base_uri": "https://localhost:8080/"
        },
        "id": "MVPGBNzZF_0y",
        "outputId": "8c321d03-41b2-4f51-b844-43b4e7b42997"
      },
      "source": [
        "import time\n",
        "sec=time.time()\n",
        "print(\"no of seconds since 12:00am,January 1,1970\",sec)"
      ],
      "execution_count": null,
      "outputs": [
        {
          "output_type": "stream",
          "text": [
            "no of seconds science 12:00am,January 1,1970 1613030664.5449011\n"
          ],
          "name": "stdout"
        }
      ]
    },
    {
      "cell_type": "code",
      "metadata": {
        "colab": {
          "base_uri": "https://localhost:8080/"
        },
        "id": "W30UCRe4HwzT",
        "outputId": "28e4479b-7104-45b0-c1c6-ff4aa249692c"
      },
      "source": [
        "import time\n",
        "print(\"The time is;\",time.ctime())\n",
        "later=time.time()+30\n",
        "print(\"30 sec from now:\",time.ctime(later))"
      ],
      "execution_count": null,
      "outputs": [
        {
          "output_type": "stream",
          "text": [
            "The time is; Thu Feb 11 08:07:11 2021\n",
            "30 sec from now: Thu Feb 11 08:07:41 2021\n"
          ],
          "name": "stdout"
        }
      ]
    },
    {
      "cell_type": "code",
      "metadata": {
        "colab": {
          "base_uri": "https://localhost:8080/"
        },
        "id": "pBwiRp5RI81b",
        "outputId": "5e791f8f-97ad-4348-a487-39d57aa6fa9a"
      },
      "source": [
        "import time\n",
        "print(\"gmtime:\",time.gmtime())\n",
        "print(\"localtime;\",time.localtime())\n",
        "print(\"mktime:\",time.mktime(time.localtime()))\n",
        "t=time.localtime()\n",
        "print(\"Current year;\",t.tm_year)\n",
        "print(\"Current month:\",t.tm_mon)\n",
        "print(\"Current day:\" ,t.tm_mday)\n",
        "print(\"Day of month\",t.tm_mday)\n",
        "print(\"Day of week\" ,t.tm_wday)\n",
        "print(\"Day of year:\",t.tm_yday)\n",
        "print(\"DST:\",t.tm_isdst)"
      ],
      "execution_count": null,
      "outputs": [
        {
          "output_type": "stream",
          "text": [
            "gmtime: time.struct_time(tm_year=2021, tm_mon=2, tm_mday=11, tm_hour=8, tm_min=55, tm_sec=6, tm_wday=3, tm_yday=42, tm_isdst=0)\n",
            "localtime; time.struct_time(tm_year=2021, tm_mon=2, tm_mday=11, tm_hour=8, tm_min=55, tm_sec=6, tm_wday=3, tm_yday=42, tm_isdst=0)\n",
            "mktime: 1613033706.0\n",
            "Current year; 2021\n",
            "Current month: 2\n",
            "Current day: 11\n",
            "Day of month 11\n",
            "Day of week 3\n",
            "Day of year: 42\n",
            "DST: 0\n"
          ],
          "name": "stdout"
        }
      ]
    },
    {
      "cell_type": "code",
      "metadata": {
        "id": "Lwf7riCAMkaX",
        "colab": {
          "base_uri": "https://localhost:8080/"
        },
        "outputId": "170bdff4-1b7f-4501-d0a4-7abc846d9fa5"
      },
      "source": [
        "n=int(input(\"Enter a limit:\"))\n",
        "print(f\"Enter {n} values:\")\n",
        "s=0\n",
        "lst=[]\n",
        "for i in range(0,n):\n",
        "    lst.append(int(input()))\n",
        "    s=s+lst[i]\n",
        "print(s)"
      ],
      "execution_count": null,
      "outputs": [
        {
          "output_type": "stream",
          "text": [
            "Enter a limit:3\n",
            "Enter 3 values:\n",
            "2\n",
            "6\n",
            "5\n",
            "13\n"
          ],
          "name": "stdout"
        }
      ]
    },
    {
      "cell_type": "code",
      "metadata": {
        "colab": {
          "base_uri": "https://localhost:8080/"
        },
        "id": "sc8PdHILckOC",
        "outputId": "c9117c2c-7253-4847-a0cd-aac7b9233fbf"
      },
      "source": [
        "import datetime\n",
        "r=datetime.datetime.now()\n",
        "print(r)"
      ],
      "execution_count": null,
      "outputs": [
        {
          "output_type": "stream",
          "text": [
            "2021-02-11 09:05:52.207408\n"
          ],
          "name": "stdout"
        }
      ]
    },
    {
      "cell_type": "code",
      "metadata": {
        "colab": {
          "base_uri": "https://localhost:8080/"
        },
        "id": "Z9AvTDTsc-Qm",
        "outputId": "9cda0b3d-dc12-4e31-97c1-863270fe5e1e"
      },
      "source": [
        "import datetime\n",
        "cd=datetime.datetime(2021,2,11)\n",
        "print(cd)"
      ],
      "execution_count": null,
      "outputs": [
        {
          "output_type": "stream",
          "text": [
            "2021-02-11 00:00:00\n"
          ],
          "name": "stdout"
        }
      ]
    },
    {
      "cell_type": "code",
      "metadata": {
        "colab": {
          "base_uri": "https://localhost:8080/"
        },
        "id": "1d8BJ7SNdeTP",
        "outputId": "c0506687-1298-4a8c-95ad-bbc2df93a9df"
      },
      "source": [
        "import datetime\n",
        "cd=datetime.datetime.now()\n",
        "re=cd.strftime('%f')\n",
        "print(re)"
      ],
      "execution_count": null,
      "outputs": [
        {
          "output_type": "stream",
          "text": [
            "067567\n"
          ],
          "name": "stdout"
        }
      ]
    },
    {
      "cell_type": "code",
      "metadata": {
        "id": "zbRHNhbzCGpp"
      },
      "source": [
        ""
      ],
      "execution_count": null,
      "outputs": []
    }
  ]
}